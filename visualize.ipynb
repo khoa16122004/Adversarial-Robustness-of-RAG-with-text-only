{
 "cells": [
  {
   "cell_type": "code",
   "execution_count": null,
   "id": "34f90133",
   "metadata": {},
   "outputs": [],
   "source": [
    "import numpy as np\n",
    "import pickle as pkl\n",
    "import matplotlib.pyplot as plt\n",
    "from IPython.display import HTML\n",
    "import matplotlib.animation as animation\n",
    "import sys\n",
    "from population import Population\n",
    "from utils import arkiv_proccess, greedy_selection, arkiv_multiple_font, visualize_process, visualize_process_multiple, mean_proccess\n",
    "import os\n"
   ]
  },
  {
   "cell_type": "code",
   "execution_count": null,
   "id": "5377af4f",
   "metadata": {},
   "outputs": [],
   "source": [
    "dir_ = \"gemma_nsgaii_logs\"\n",
    "model_name = \"gemma-7b\"\n",
    "sample_id = \"2\"\n",
    "pcts_list, pcts_font, merge_font = arkiv_multiple_font(dir=dir_, \n",
    "                                                       model_name=model_name,\n",
    "                                                       sample_id=sample_id)\n"
   ]
  },
  {
   "cell_type": "code",
   "execution_count": null,
   "id": "9272d911",
   "metadata": {},
   "outputs": [],
   "source": [
    "\n",
    "ani = visualize_process(final_history=pcts_font[1])\n",
    "ani.save(\"gemma_7b_nsgaii_logs_0_0.1.gif\", writer='ffmpeg', fps=10000 )\n"
   ]
  },
  {
   "cell_type": "code",
   "execution_count": null,
   "id": "e7e0e764",
   "metadata": {},
   "outputs": [],
   "source": [
    "\n",
    "ani = visualize_process_multiple(final_histories=pcts_font)\n",
    "ani.save(\"gemma_7b_nsgaii_logs_1_allfont.gif\", writer='ffmpeg', fps=10000 )\n"
   ]
  },
  {
   "cell_type": "code",
   "execution_count": null,
   "id": "64c18804",
   "metadata": {},
   "outputs": [],
   "source": [
    "def mean_proccess(model_name, dir):\n",
    "    path_template = r\"{model_name}_ngsgaii_golden_answer_{pct}_{id}.pkl\"\n",
    "    final_proccess = []\n",
    "    for id in range(10):\n",
    "        proccess_full = []\n",
    "        for i, pct in enumerate([0.05, 0.1, 0.2, 0.5]):\n",
    "            path = os.path.join(dir, path_template.format(model_name=model_name, pct=pct, id=id))\n",
    "            history = pkl.load(open(path, \"rb\"))\n",
    "            final_font = arkiv_proccess(history)\n",
    "            final_font = [np.array(font) for font in final_font]\n",
    "\n",
    "            proccess_retri_list = [np.min(font[:, 0]) for font in final_font]\n",
    "            proccess_reader_list = [np.min(font[:, 1]) for font in final_font]\n",
    "            proccess_full.append(np.column_stack((proccess_retri_list, proccess_reader_list)))\n",
    "        \n",
    "        proccess_full = np.array(proccess_full)\n",
    "        final_proccess.append(proccess_full)\n",
    "\n",
    "    final_proccess = np.array(final_proccess)\n",
    "    proccess_mean = np.mean(final_proccess, axis=0)\n",
    "    return proccess_mean"
   ]
  },
  {
   "cell_type": "code",
   "execution_count": null,
   "id": "c4a65069",
   "metadata": {},
   "outputs": [],
   "source": [
    "def plot_scores(proccess_full):\n",
    "    pcts = [0.05, 0.1, 0.2, 0.5]\n",
    "    colors = [\"#1f77b4\", \"#ff7f0e\", \"#2ca02c\", \"#d62728\"]\n",
    "    generations = np.arange(proccess_full.shape[1])\n",
    "    \n",
    "    plt.figure(figsize=(10, 5))\n",
    "    for i, (pct, color) in enumerate(zip(pcts, colors)):\n",
    "        plt.plot(generations, proccess_full[i, :, 0], label=f'pct={pct}', color=color)\n",
    "    plt.xlabel('Generation')\n",
    "    plt.ylabel('L_RSR')\n",
    "    plt.title('L_RSR Score over Generations')\n",
    "    plt.legend()\n",
    "    plt.grid(True)\n",
    "    plt.tight_layout()\n",
    "    plt.show()\n",
    "    \n",
    "    plt.figure(figsize=(10, 5))\n",
    "    for i, (pct, color) in enumerate(zip(pcts, colors)):\n",
    "        plt.plot(generations, proccess_full[i, :, 1], label=f'pct={pct}', color=color)\n",
    "    plt.xlabel('Generation')\n",
    "    plt.ylabel('GPR score')\n",
    "    plt.title('GPR Score over Generations')\n",
    "    plt.legend()\n",
    "    plt.grid(True)\n",
    "    plt.tight_layout()\n",
    "    plt.show()"
   ]
  },
  {
   "cell_type": "code",
   "execution_count": null,
   "id": "ba0a3d4c",
   "metadata": {},
   "outputs": [],
   "source": [
    "dir_ = \"llama_7b_nsgaii_logs\"\n",
    "model_name = \"llama-7b\"\n",
    "proccess_mean = mean_proccess(model_name=model_name, dir=dir_)\n",
    "plot_scores(proccess_full=proccess_mean)"
   ]
  },
  {
   "cell_type": "code",
   "execution_count": null,
   "id": "c472552b",
   "metadata": {},
   "outputs": [],
   "source": [
    "dir_ = \"gemma_nsgaii_logs\"\n",
    "model_name = \"gemma-7b\"\n",
    "proccess_mean = mean_proccess(model_name=model_name, dir=dir_)\n",
    "plot_scores(proccess_full=proccess_mean)"
   ]
  },
  {
   "cell_type": "code",
   "execution_count": null,
   "id": "a2dae74e",
   "metadata": {},
   "outputs": [],
   "source": [
    "dir_ = \"vicuna_7b_nsgaii_logs\"\n",
    "model_name = \"vicuna-7b\"\n",
    "proccess_mean = mean_proccess(model_name=model_name, dir=dir_)\n",
    "plot_scores(proccess_full=proccess_mean)"
   ]
  },
  {
   "cell_type": "code",
   "execution_count": null,
   "id": "190b99c4",
   "metadata": {},
   "outputs": [],
   "source": [
    "pcts_list"
   ]
  },
  {
   "cell_type": "code",
   "execution_count": null,
   "id": "c7efbdd9",
   "metadata": {},
   "outputs": [],
   "source": [
    "dir_ = \"gemma_nsgaii_logs\"\n",
    "model_name = \"gemma-7b\"\n",
    "\n",
    "\n",
    "for i in range(10):\n",
    "    pcts = [0.05, 0.1, 0.2, 0.5]\n",
    "    sample_id = str(i)\n",
    "    pcts_list, pcts_font, merge_font = arkiv_multiple_font(dir=dir_, \n",
    "                                                        model_name=model_name,\n",
    "                                                        sample_id=sample_id)\n",
    "    # for pct in pcts:\n",
    "    #     output_dir = f\"{model_name}_{pct}\"\n",
    "    #     os.makedirs(output_dir, exist_ok=True)\n",
    "    #     output_path = os.path.join(output_dir, f\"{sample_id}.txt\")\n",
    "    #     with open(output_path, \"w\", encoding=\"utf-8\") as f:\n",
    "    #         f.write(pcts_list[pct])\n",
    "    merge_font_path = f\"{model_name}_merge\"\n",
    "    os.makedirs(merge_font_path, exist_ok=True)\n",
    "    merge_font_path = os.path.join(merge_font_path, f\"{sample_id}.txt\")\n",
    "    with open(merge_font_path, \"w\", encoding=\"utf-8\") as f:\n",
    "        ind, _ = greedy_selection(np.array(merge_font[0]))\n",
    "        merge_text = ind[2].get_perturbed_text()\n",
    "        f.write(merge_text)\n",
    "            "
   ]
  },
  {
   "cell_type": "code",
   "execution_count": null,
   "id": "f3d8e41b",
   "metadata": {},
   "outputs": [],
   "source": [
    "ind[0][2]"
   ]
  },
  {
   "cell_type": "code",
   "execution_count": null,
   "id": "21323ce3",
   "metadata": {},
   "outputs": [],
   "source": [
    "dir_ = \"vicuna_7b_nsgaii_logs\"\n",
    "model_name = \"vicuna-7b\"\n",
    "\n",
    "for i in range(10):\n",
    "    pcts = [0.05, 0.1, 0.2, 0.5]\n",
    "    sample_id = str(i)\n",
    "    pcts_list, pcts_font, merge_font = arkiv_multiple_font(dir=dir_, \n",
    "                                                        model_name=model_name,\n",
    "                                                        sample_id=sample_id)\n",
    "    # for pct in pcts:\n",
    "    #     output_dir = f\"{model_name}_{pct}\"\n",
    "    #     os.makedirs(output_dir, exist_ok=True)\n",
    "    #     output_path = os.path.join(output_dir, f\"{sample_id}.txt\")\n",
    "    #     with open(output_path, \"w\", encoding=\"utf-8\") as f:\n",
    "    #         f.write(pcts_list[pct])\n",
    "    merge_font_path = f\"{model_name}_merge\"\n",
    "    os.makedirs(merge_font_path, exist_ok=True)\n",
    "    merge_font_path = os.path.join(merge_font_path, f\"{sample_id}.txt\")\n",
    "    with open(merge_font_path, \"w\", encoding=\"utf-8\") as f:\n",
    "        ind, _ = greedy_selection(np.array(merge_font[0]))\n",
    "        merge_text = ind[2].get_perturbed_text()\n",
    "        f.write(merge_text)\n",
    "        \n",
    "            "
   ]
  },
  {
   "cell_type": "code",
   "execution_count": null,
   "id": "eec72526",
   "metadata": {},
   "outputs": [],
   "source": [
    "dir_ = \"llama_7b_nsgaii_logs\"\n",
    "model_name = \"llama-7b\"\n",
    "\n",
    "for i in range(10):\n",
    "    pcts = [0.05, 0.1, 0.2, 0.5]\n",
    "    sample_id = str(i)\n",
    "    pcts_list, pcts_font, merge_font = arkiv_multiple_font(dir=dir_, \n",
    "                                                        model_name=model_name,\n",
    "                                                        sample_id=sample_id)\n",
    "    # for pct in pcts:\n",
    "    #     output_dir = f\"{model_name}_{pct}\"\n",
    "    #     os.makedirs(output_dir, exist_ok=True)\n",
    "    #     output_path = os.path.join(output_dir, f\"{sample_id}.txt\")\n",
    "    #     with open(output_path, \"w\", encoding=\"utf-8\") as f:\n",
    "    #         f.write(pcts_list[pct])\n",
    "    merge_font_path = f\"{model_name}_merge\"\n",
    "    os.makedirs(merge_font_path, exist_ok=True)\n",
    "    merge_font_path = os.path.join(merge_font_path, f\"{sample_id}.txt\")\n",
    "    with open(merge_font_path, \"w\", encoding=\"utf-8\") as f:\n",
    "        ind, _ = greedy_selection(np.array(merge_font[0]))\n",
    "        merge_text = ind[2].get_perturbed_text()\n",
    "        f.write(merge_text)\n",
    "            "
   ]
  },
  {
   "cell_type": "code",
   "execution_count": null,
   "id": "f830d1bf",
   "metadata": {},
   "outputs": [],
   "source": []
  }
 ],
 "metadata": {
  "kernelspec": {
   "display_name": "Python 3",
   "language": "python",
   "name": "python3"
  },
  "language_info": {
   "codemirror_mode": {
    "name": "ipython",
    "version": 3
   },
   "file_extension": ".py",
   "mimetype": "text/x-python",
   "name": "python",
   "nbconvert_exporter": "python",
   "pygments_lexer": "ipython3",
   "version": "3.12.9"
  }
 },
 "nbformat": 4,
 "nbformat_minor": 5
}
